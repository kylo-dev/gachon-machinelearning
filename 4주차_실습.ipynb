{
  "nbformat": 4,
  "nbformat_minor": 0,
  "metadata": {
    "colab": {
      "provenance": [],
      "authorship_tag": "ABX9TyNJltTNxuKXLx//5RPV236h",
      "include_colab_link": true
    },
    "kernelspec": {
      "name": "python3",
      "display_name": "Python 3"
    },
    "language_info": {
      "name": "python"
    }
  },
  "cells": [
    {
      "cell_type": "markdown",
      "metadata": {
        "id": "view-in-github",
        "colab_type": "text"
      },
      "source": [
        "<a href=\"https://colab.research.google.com/github/kylo-dev/gachon-machinelearning/blob/main/4%EC%A3%BC%EC%B0%A8_%EC%8B%A4%EC%8A%B5.ipynb\" target=\"_parent\"><img src=\"https://colab.research.google.com/assets/colab-badge.svg\" alt=\"Open In Colab\"/></a>"
      ]
    },
    {
      "cell_type": "markdown",
      "source": [
        "## 실습"
      ],
      "metadata": {
        "id": "egVgTJjKdEY6"
      }
    },
    {
      "cell_type": "markdown",
      "source": [
        "### 데이터 준비"
      ],
      "metadata": {
        "id": "QTPZ-OsqdEdO"
      }
    },
    {
      "cell_type": "code",
      "source": [
        "from sklearn.datasets import load_iris\n",
        "import pandas as pd\n",
        "\n",
        "# 데이터 불러오기\n",
        "iris = load_iris()\n",
        "\n",
        "# 데이터와 특성 판다스로 변환\n",
        "iris_df = pd.DataFrame(data=iris.data, columns=iris.feature_names)\n",
        "\n",
        "# 타겟 열 추가\n",
        "iris_df['target'] = iris.target\n",
        "\n",
        "print(iris_df.head())"
      ],
      "metadata": {
        "colab": {
          "base_uri": "https://localhost:8080/"
        },
        "id": "u7o3d9cw_jIi",
        "outputId": "cc3a987d-c839-473c-ed2a-ebbac0e3ebb2"
      },
      "execution_count": 1,
      "outputs": [
        {
          "output_type": "stream",
          "name": "stdout",
          "text": [
            "   sepal length (cm)  sepal width (cm)  petal length (cm)  petal width (cm)  \\\n",
            "0                5.1               3.5                1.4               0.2   \n",
            "1                4.9               3.0                1.4               0.2   \n",
            "2                4.7               3.2                1.3               0.2   \n",
            "3                4.6               3.1                1.5               0.2   \n",
            "4                5.0               3.6                1.4               0.2   \n",
            "\n",
            "   target  \n",
            "0       0  \n",
            "1       0  \n",
            "2       0  \n",
            "3       0  \n",
            "4       0  \n"
          ]
        }
      ]
    },
    {
      "cell_type": "code",
      "source": [
        "print(iris_df.info())"
      ],
      "metadata": {
        "colab": {
          "base_uri": "https://localhost:8080/"
        },
        "id": "HawfhEvpEEuT",
        "outputId": "227e0618-7c30-4827-efeb-c0870fb106d5"
      },
      "execution_count": 2,
      "outputs": [
        {
          "output_type": "stream",
          "name": "stdout",
          "text": [
            "<class 'pandas.core.frame.DataFrame'>\n",
            "RangeIndex: 150 entries, 0 to 149\n",
            "Data columns (total 5 columns):\n",
            " #   Column             Non-Null Count  Dtype  \n",
            "---  ------             --------------  -----  \n",
            " 0   sepal length (cm)  150 non-null    float64\n",
            " 1   sepal width (cm)   150 non-null    float64\n",
            " 2   petal length (cm)  150 non-null    float64\n",
            " 3   petal width (cm)   150 non-null    float64\n",
            " 4   target             150 non-null    int64  \n",
            "dtypes: float64(4), int64(1)\n",
            "memory usage: 6.0 KB\n",
            "None\n"
          ]
        }
      ]
    },
    {
      "cell_type": "code",
      "source": [
        "print(iris.DESCR)"
      ],
      "metadata": {
        "colab": {
          "base_uri": "https://localhost:8080/"
        },
        "id": "-xviDIiZEduL",
        "outputId": "04f2da54-ecbc-431c-e349-21f596cacdad"
      },
      "execution_count": 3,
      "outputs": [
        {
          "output_type": "stream",
          "name": "stdout",
          "text": [
            ".. _iris_dataset:\n",
            "\n",
            "Iris plants dataset\n",
            "--------------------\n",
            "\n",
            "**Data Set Characteristics:**\n",
            "\n",
            "    :Number of Instances: 150 (50 in each of three classes)\n",
            "    :Number of Attributes: 4 numeric, predictive attributes and the class\n",
            "    :Attribute Information:\n",
            "        - sepal length in cm\n",
            "        - sepal width in cm\n",
            "        - petal length in cm\n",
            "        - petal width in cm\n",
            "        - class:\n",
            "                - Iris-Setosa\n",
            "                - Iris-Versicolour\n",
            "                - Iris-Virginica\n",
            "                \n",
            "    :Summary Statistics:\n",
            "\n",
            "    ============== ==== ==== ======= ===== ====================\n",
            "                    Min  Max   Mean    SD   Class Correlation\n",
            "    ============== ==== ==== ======= ===== ====================\n",
            "    sepal length:   4.3  7.9   5.84   0.83    0.7826\n",
            "    sepal width:    2.0  4.4   3.05   0.43   -0.4194\n",
            "    petal length:   1.0  6.9   3.76   1.76    0.9490  (high!)\n",
            "    petal width:    0.1  2.5   1.20   0.76    0.9565  (high!)\n",
            "    ============== ==== ==== ======= ===== ====================\n",
            "\n",
            "    :Missing Attribute Values: None\n",
            "    :Class Distribution: 33.3% for each of 3 classes.\n",
            "    :Creator: R.A. Fisher\n",
            "    :Donor: Michael Marshall (MARSHALL%PLU@io.arc.nasa.gov)\n",
            "    :Date: July, 1988\n",
            "\n",
            "The famous Iris database, first used by Sir R.A. Fisher. The dataset is taken\n",
            "from Fisher's paper. Note that it's the same as in R, but not as in the UCI\n",
            "Machine Learning Repository, which has two wrong data points.\n",
            "\n",
            "This is perhaps the best known database to be found in the\n",
            "pattern recognition literature.  Fisher's paper is a classic in the field and\n",
            "is referenced frequently to this day.  (See Duda & Hart, for example.)  The\n",
            "data set contains 3 classes of 50 instances each, where each class refers to a\n",
            "type of iris plant.  One class is linearly separable from the other 2; the\n",
            "latter are NOT linearly separable from each other.\n",
            "\n",
            ".. topic:: References\n",
            "\n",
            "   - Fisher, R.A. \"The use of multiple measurements in taxonomic problems\"\n",
            "     Annual Eugenics, 7, Part II, 179-188 (1936); also in \"Contributions to\n",
            "     Mathematical Statistics\" (John Wiley, NY, 1950).\n",
            "   - Duda, R.O., & Hart, P.E. (1973) Pattern Classification and Scene Analysis.\n",
            "     (Q327.D83) John Wiley & Sons.  ISBN 0-471-22361-1.  See page 218.\n",
            "   - Dasarathy, B.V. (1980) \"Nosing Around the Neighborhood: A New System\n",
            "     Structure and Classification Rule for Recognition in Partially Exposed\n",
            "     Environments\".  IEEE Transactions on Pattern Analysis and Machine\n",
            "     Intelligence, Vol. PAMI-2, No. 1, 67-71.\n",
            "   - Gates, G.W. (1972) \"The Reduced Nearest Neighbor Rule\".  IEEE Transactions\n",
            "     on Information Theory, May 1972, 431-433.\n",
            "   - See also: 1988 MLC Proceedings, 54-64.  Cheeseman et al\"s AUTOCLASS II\n",
            "     conceptual clustering system finds 3 classes in the data.\n",
            "   - Many, many more ...\n"
          ]
        }
      ]
    },
    {
      "cell_type": "markdown",
      "source": [
        "### 클래스 추출"
      ],
      "metadata": {
        "id": "7liznvYYdEfT"
      }
    },
    {
      "cell_type": "code",
      "source": [
        "# 클래스명 확인\n",
        "class_names = iris.target_names\n",
        "\n",
        "print(class_names)"
      ],
      "metadata": {
        "colab": {
          "base_uri": "https://localhost:8080/"
        },
        "id": "IO7lDMtyEghB",
        "outputId": "d5de9cd6-1246-498e-e52c-12ee1ed31cba"
      },
      "execution_count": 4,
      "outputs": [
        {
          "output_type": "stream",
          "name": "stdout",
          "text": [
            "['setosa' 'versicolor' 'virginica']\n"
          ]
        }
      ]
    },
    {
      "cell_type": "markdown",
      "source": [
        "### 입력 데이터와 정답 데이터 생성"
      ],
      "metadata": {
        "id": "SL3N5Y_fdTvE"
      }
    },
    {
      "cell_type": "code",
      "source": [
        "import numpy as np\n",
        "\n",
        "columns = iris.feature_names\n",
        "\n",
        "iris_input = iris_df[columns].to_numpy()\n",
        "iris_target = iris_df['target'].to_numpy()\n",
        "\n",
        "print(iris_input[:5])\n",
        "print(iris_target[:5])"
      ],
      "metadata": {
        "colab": {
          "base_uri": "https://localhost:8080/"
        },
        "id": "MiLAxkMaE2s4",
        "outputId": "eb526514-bad1-4123-b20b-052205f53839"
      },
      "execution_count": 5,
      "outputs": [
        {
          "output_type": "stream",
          "name": "stdout",
          "text": [
            "[[5.1 3.5 1.4 0.2]\n",
            " [4.9 3.  1.4 0.2]\n",
            " [4.7 3.2 1.3 0.2]\n",
            " [4.6 3.1 1.5 0.2]\n",
            " [5.  3.6 1.4 0.2]]\n",
            "[0 0 0 0 0]\n"
          ]
        }
      ]
    },
    {
      "cell_type": "markdown",
      "source": [
        "### 훈련 세트와 테스트 세트로 나누기"
      ],
      "metadata": {
        "id": "bRBrW3gKdTlO"
      }
    },
    {
      "cell_type": "code",
      "source": [
        "print(iris_input.shape)\n",
        "print(iris_target.shape)"
      ],
      "metadata": {
        "colab": {
          "base_uri": "https://localhost:8080/"
        },
        "id": "mAAIBRulGdhO",
        "outputId": "9db3e408-69ee-4695-adeb-fdb530f05f15"
      },
      "execution_count": 6,
      "outputs": [
        {
          "output_type": "stream",
          "name": "stdout",
          "text": [
            "(150, 4)\n",
            "(150,)\n"
          ]
        }
      ]
    },
    {
      "cell_type": "code",
      "source": [
        "from sklearn.model_selection import train_test_split\n",
        "\n",
        "train_input, test_input, train_target, test_target = train_test_split(\n",
        "    iris_input, iris_target, random_state=42, stratify=iris_target\n",
        ")"
      ],
      "metadata": {
        "id": "E8wtdfVcEqN7"
      },
      "execution_count": 7,
      "outputs": []
    },
    {
      "cell_type": "markdown",
      "source": [
        "### 표준화"
      ],
      "metadata": {
        "id": "Mi7n5U0UdTn5"
      }
    },
    {
      "cell_type": "code",
      "source": [
        "from sklearn.preprocessing import StandardScaler\n",
        "\n",
        "ss = StandardScaler()\n",
        "train_scaled = ss.fit_transform(train_input)\n",
        "test_scaled = ss.transform(test_input)"
      ],
      "metadata": {
        "id": "-2XyUXvNHki6"
      },
      "execution_count": 8,
      "outputs": []
    },
    {
      "cell_type": "code",
      "source": [
        "print(train_scaled[:5])"
      ],
      "metadata": {
        "colab": {
          "base_uri": "https://localhost:8080/"
        },
        "id": "XOU9u76TH53h",
        "outputId": "340cb9cd-71df-421b-ff3b-f30ad9d4eb63"
      },
      "execution_count": 9,
      "outputs": [
        {
          "output_type": "stream",
          "name": "stdout",
          "text": [
            "[[ 1.79213839 -0.60238047  1.31532306  0.92095427]\n",
            " [ 2.14531053 -0.60238047  1.65320421  1.05135487]\n",
            " [-0.4446185  -1.50797259 -0.03620155 -0.25265117]\n",
            " [ 0.26172578 -0.60238047  0.13273902  0.13855064]\n",
            " [-0.4446185  -1.28157456  0.13273902  0.13855064]]\n"
          ]
        }
      ]
    },
    {
      "cell_type": "markdown",
      "source": [
        "### K-최근접 이웃 알고리즘 이용하여 다중 분류 훈련 및 최적화하기"
      ],
      "metadata": {
        "id": "uwmXFFEodTqP"
      }
    },
    {
      "cell_type": "code",
      "source": [
        "from sklearn.neighbors import KNeighborsClassifier\n",
        "\n",
        "kn = KNeighborsClassifier(n_neighbors=3)\n",
        "kn.fit(train_scaled, train_target)\n",
        "\n",
        "print(kn.score(train_scaled, train_target))\n",
        "print(kn.score(test_scaled, test_target))"
      ],
      "metadata": {
        "colab": {
          "base_uri": "https://localhost:8080/"
        },
        "id": "6XP7x6v4H8E-",
        "outputId": "6419e113-e7a7-4260-f2b6-ede5a946f0eb"
      },
      "execution_count": 10,
      "outputs": [
        {
          "output_type": "stream",
          "name": "stdout",
          "text": [
            "0.9642857142857143\n",
            "0.9210526315789473\n"
          ]
        }
      ]
    },
    {
      "cell_type": "markdown",
      "source": [
        "### 테스트 세트의 5개의 데이터에 대해서 예측과 확률 알아보기"
      ],
      "metadata": {
        "id": "4RBQaWuGdTsm"
      }
    },
    {
      "cell_type": "code",
      "source": [
        "print(kn.predict(test_scaled[:5]))\n",
        "\n",
        "proba = kn.predict_proba(test_scaled[:5])\n",
        "print(np.round(proba, decimals=3))"
      ],
      "metadata": {
        "colab": {
          "base_uri": "https://localhost:8080/"
        },
        "id": "YtmQsfW-FuqH",
        "outputId": "56209763-8db2-40b4-88c0-acd78aa832b9"
      },
      "execution_count": 11,
      "outputs": [
        {
          "output_type": "stream",
          "name": "stdout",
          "text": [
            "[0 1 1 1 0]\n",
            "[[1.    0.    0.   ]\n",
            " [0.    0.667 0.333]\n",
            " [0.    1.    0.   ]\n",
            " [0.    1.    0.   ]\n",
            " [1.    0.    0.   ]]\n"
          ]
        }
      ]
    },
    {
      "cell_type": "markdown",
      "source": [
        "### 최적화 해보기"
      ],
      "metadata": {
        "id": "rtgx02qjdhcM"
      }
    },
    {
      "cell_type": "code",
      "source": [
        "kn = KNeighborsClassifier()\n",
        "\n",
        "for n in [3, 5, 7, 10]:\n",
        "    # 모델 훈련\n",
        "    kn.n_neighbors = n\n",
        "    kn.fit(train_scaled, train_target)\n",
        "\n",
        "    # 모델 스코어 확인\n",
        "    train_score = kn.score(train_scaled, train_target)\n",
        "    test_score = kn.score(test_scaled, test_target)\n",
        "    print(f'n_neighbors = {n}의 score 값은 {train_score}')\n",
        "    print(f'n_neighbors = {n}의 score 값은 {test_score}')\n",
        "    print(\"==================================================\")"
      ],
      "metadata": {
        "colab": {
          "base_uri": "https://localhost:8080/"
        },
        "id": "X3_ShujUeAcf",
        "outputId": "b349b54b-4f90-4e48-b80c-ed98c361f883"
      },
      "execution_count": 12,
      "outputs": [
        {
          "output_type": "stream",
          "name": "stdout",
          "text": [
            "n_neighbors = 3의 score 값은 0.9642857142857143\n",
            "n_neighbors = 3의 score 값은 0.9210526315789473\n",
            "==================================================\n",
            "n_neighbors = 5의 score 값은 0.9821428571428571\n",
            "n_neighbors = 5의 score 값은 0.9210526315789473\n",
            "==================================================\n",
            "n_neighbors = 7의 score 값은 0.9732142857142857\n",
            "n_neighbors = 7의 score 값은 0.9473684210526315\n",
            "==================================================\n",
            "n_neighbors = 10의 score 값은 0.9732142857142857\n",
            "n_neighbors = 10의 score 값은 0.9736842105263158\n",
            "==================================================\n"
          ]
        }
      ]
    },
    {
      "cell_type": "code",
      "source": [
        "kn = KNeighborsClassifier(n_neighbors=7)\n",
        "kn.fit(train_scaled, train_target)\n",
        "\n",
        "print(kn.score(train_scaled, train_target))\n",
        "print(kn.score(test_scaled, test_target))"
      ],
      "metadata": {
        "colab": {
          "base_uri": "https://localhost:8080/"
        },
        "id": "R3FImR3Ue93D",
        "outputId": "e310ef2c-833c-4a0c-da1a-a96849e1963d"
      },
      "execution_count": 13,
      "outputs": [
        {
          "output_type": "stream",
          "name": "stdout",
          "text": [
            "0.9732142857142857\n",
            "0.9473684210526315\n"
          ]
        }
      ]
    },
    {
      "cell_type": "markdown",
      "source": [
        "### 로지스틱 회귀를 이용하여 다중 분류 훈련 및 최적화하기"
      ],
      "metadata": {
        "id": "NPvJiXkQdheZ"
      }
    },
    {
      "cell_type": "code",
      "source": [
        "from sklearn.linear_model import LogisticRegression\n",
        "\n",
        "lr = LogisticRegression()\n",
        "lr.fit(train_scaled, train_target)"
      ],
      "metadata": {
        "colab": {
          "base_uri": "https://localhost:8080/",
          "height": 74
        },
        "id": "JuE_WxU6d4MX",
        "outputId": "4b8dd2d9-4b3e-43c4-81d9-87ac02386623"
      },
      "execution_count": 14,
      "outputs": [
        {
          "output_type": "execute_result",
          "data": {
            "text/plain": [
              "LogisticRegression()"
            ],
            "text/html": [
              "<style>#sk-container-id-1 {color: black;background-color: white;}#sk-container-id-1 pre{padding: 0;}#sk-container-id-1 div.sk-toggleable {background-color: white;}#sk-container-id-1 label.sk-toggleable__label {cursor: pointer;display: block;width: 100%;margin-bottom: 0;padding: 0.3em;box-sizing: border-box;text-align: center;}#sk-container-id-1 label.sk-toggleable__label-arrow:before {content: \"▸\";float: left;margin-right: 0.25em;color: #696969;}#sk-container-id-1 label.sk-toggleable__label-arrow:hover:before {color: black;}#sk-container-id-1 div.sk-estimator:hover label.sk-toggleable__label-arrow:before {color: black;}#sk-container-id-1 div.sk-toggleable__content {max-height: 0;max-width: 0;overflow: hidden;text-align: left;background-color: #f0f8ff;}#sk-container-id-1 div.sk-toggleable__content pre {margin: 0.2em;color: black;border-radius: 0.25em;background-color: #f0f8ff;}#sk-container-id-1 input.sk-toggleable__control:checked~div.sk-toggleable__content {max-height: 200px;max-width: 100%;overflow: auto;}#sk-container-id-1 input.sk-toggleable__control:checked~label.sk-toggleable__label-arrow:before {content: \"▾\";}#sk-container-id-1 div.sk-estimator input.sk-toggleable__control:checked~label.sk-toggleable__label {background-color: #d4ebff;}#sk-container-id-1 div.sk-label input.sk-toggleable__control:checked~label.sk-toggleable__label {background-color: #d4ebff;}#sk-container-id-1 input.sk-hidden--visually {border: 0;clip: rect(1px 1px 1px 1px);clip: rect(1px, 1px, 1px, 1px);height: 1px;margin: -1px;overflow: hidden;padding: 0;position: absolute;width: 1px;}#sk-container-id-1 div.sk-estimator {font-family: monospace;background-color: #f0f8ff;border: 1px dotted black;border-radius: 0.25em;box-sizing: border-box;margin-bottom: 0.5em;}#sk-container-id-1 div.sk-estimator:hover {background-color: #d4ebff;}#sk-container-id-1 div.sk-parallel-item::after {content: \"\";width: 100%;border-bottom: 1px solid gray;flex-grow: 1;}#sk-container-id-1 div.sk-label:hover label.sk-toggleable__label {background-color: #d4ebff;}#sk-container-id-1 div.sk-serial::before {content: \"\";position: absolute;border-left: 1px solid gray;box-sizing: border-box;top: 0;bottom: 0;left: 50%;z-index: 0;}#sk-container-id-1 div.sk-serial {display: flex;flex-direction: column;align-items: center;background-color: white;padding-right: 0.2em;padding-left: 0.2em;position: relative;}#sk-container-id-1 div.sk-item {position: relative;z-index: 1;}#sk-container-id-1 div.sk-parallel {display: flex;align-items: stretch;justify-content: center;background-color: white;position: relative;}#sk-container-id-1 div.sk-item::before, #sk-container-id-1 div.sk-parallel-item::before {content: \"\";position: absolute;border-left: 1px solid gray;box-sizing: border-box;top: 0;bottom: 0;left: 50%;z-index: -1;}#sk-container-id-1 div.sk-parallel-item {display: flex;flex-direction: column;z-index: 1;position: relative;background-color: white;}#sk-container-id-1 div.sk-parallel-item:first-child::after {align-self: flex-end;width: 50%;}#sk-container-id-1 div.sk-parallel-item:last-child::after {align-self: flex-start;width: 50%;}#sk-container-id-1 div.sk-parallel-item:only-child::after {width: 0;}#sk-container-id-1 div.sk-dashed-wrapped {border: 1px dashed gray;margin: 0 0.4em 0.5em 0.4em;box-sizing: border-box;padding-bottom: 0.4em;background-color: white;}#sk-container-id-1 div.sk-label label {font-family: monospace;font-weight: bold;display: inline-block;line-height: 1.2em;}#sk-container-id-1 div.sk-label-container {text-align: center;}#sk-container-id-1 div.sk-container {/* jupyter's `normalize.less` sets `[hidden] { display: none; }` but bootstrap.min.css set `[hidden] { display: none !important; }` so we also need the `!important` here to be able to override the default hidden behavior on the sphinx rendered scikit-learn.org. See: https://github.com/scikit-learn/scikit-learn/issues/21755 */display: inline-block !important;position: relative;}#sk-container-id-1 div.sk-text-repr-fallback {display: none;}</style><div id=\"sk-container-id-1\" class=\"sk-top-container\"><div class=\"sk-text-repr-fallback\"><pre>LogisticRegression()</pre><b>In a Jupyter environment, please rerun this cell to show the HTML representation or trust the notebook. <br />On GitHub, the HTML representation is unable to render, please try loading this page with nbviewer.org.</b></div><div class=\"sk-container\" hidden><div class=\"sk-item\"><div class=\"sk-estimator sk-toggleable\"><input class=\"sk-toggleable__control sk-hidden--visually\" id=\"sk-estimator-id-1\" type=\"checkbox\" checked><label for=\"sk-estimator-id-1\" class=\"sk-toggleable__label sk-toggleable__label-arrow\">LogisticRegression</label><div class=\"sk-toggleable__content\"><pre>LogisticRegression()</pre></div></div></div></div></div>"
            ]
          },
          "metadata": {},
          "execution_count": 14
        }
      ]
    },
    {
      "cell_type": "code",
      "source": [
        "print(lr.score(train_scaled, train_target))\n",
        "print(lr.score(test_scaled, test_target))"
      ],
      "metadata": {
        "colab": {
          "base_uri": "https://localhost:8080/"
        },
        "id": "eGFnrSRod4PC",
        "outputId": "8d6c0a8e-74f0-491e-89d2-175fa23eadf4"
      },
      "execution_count": 15,
      "outputs": [
        {
          "output_type": "stream",
          "name": "stdout",
          "text": [
            "0.9732142857142857\n",
            "0.9210526315789473\n"
          ]
        }
      ]
    },
    {
      "cell_type": "code",
      "source": [
        "print(lr.predict(test_scaled[:5]))\n",
        "\n",
        "proba = kn.predict_proba(test_scaled[:5])\n",
        "print(np.round(proba, decimals=3))"
      ],
      "metadata": {
        "colab": {
          "base_uri": "https://localhost:8080/"
        },
        "id": "sAeet_PFd4RX",
        "outputId": "ab274e64-cf14-482f-a6b2-b0c556a8d41a"
      },
      "execution_count": 17,
      "outputs": [
        {
          "output_type": "stream",
          "name": "stdout",
          "text": [
            "[0 1 1 1 0]\n",
            "[[1.    0.    0.   ]\n",
            " [0.    0.714 0.286]\n",
            " [0.    1.    0.   ]\n",
            " [0.    1.    0.   ]\n",
            " [1.    0.    0.   ]]\n"
          ]
        }
      ]
    },
    {
      "cell_type": "code",
      "source": [
        "from sklearn.model_selection import GridSearchCV\n",
        "\n",
        "param_grid = {\n",
        "    'C': [0.001, 0.01, 0.1, 1, 10],  # C 값 변화\n",
        "    'penalty': ['l1', 'l2'],         # 규제 방법 변경 (L1 또는 L2)\n",
        "}\n",
        "\n",
        "# 로지스틱 회귀 모델\n",
        "lr = LogisticRegression(solver='liblinear')\n",
        "\n",
        "grid_search = GridSearchCV(estimator=lr, param_grid = param_grid, cv=5)\n",
        "\n",
        "# 그리드 서치를 통해 최적의 모델 찾기\n",
        "grid_search.fit(train_scaled, train_target)\n",
        "\n",
        "# 최적의 하이퍼파라미터 출력\n",
        "best_params = grid_search.best_params_\n",
        "best_model = grid_search.best_estimator_\n",
        "\n",
        "print(\"최적의 하이퍼파라미터:\", best_params)\n",
        "print(\"최적의 모델:\", best_model)"
      ],
      "metadata": {
        "colab": {
          "base_uri": "https://localhost:8080/"
        },
        "id": "0BDP7K1Vd4TN",
        "outputId": "97f6915a-b0e9-43a7-d988-140450e691d5"
      },
      "execution_count": 18,
      "outputs": [
        {
          "output_type": "stream",
          "name": "stdout",
          "text": [
            "최적의 하이퍼파라미터: {'C': 10, 'penalty': 'l2'}\n",
            "최적의 모델: LogisticRegression(C=10, solver='liblinear')\n"
          ]
        }
      ]
    },
    {
      "cell_type": "code",
      "source": [
        "lr = LogisticRegression(C=10, penalty='l2')\n",
        "\n",
        "lr.fit(train_scaled, train_target)\n",
        "\n",
        "print(lr.score(train_scaled, train_target))\n",
        "print(lr.score(test_scaled, test_target))"
      ],
      "metadata": {
        "colab": {
          "base_uri": "https://localhost:8080/"
        },
        "id": "HzB_n0kPd8ng",
        "outputId": "af77f061-f91f-4e66-9e23-e0331c13a6a5"
      },
      "execution_count": 19,
      "outputs": [
        {
          "output_type": "stream",
          "name": "stdout",
          "text": [
            "0.9821428571428571\n",
            "0.9473684210526315\n"
          ]
        }
      ]
    },
    {
      "cell_type": "markdown",
      "source": [
        "### 확률적 경사 하강법을 이용하여 다중 분류 훈련 및 최적화하기"
      ],
      "metadata": {
        "id": "3Y323UCGdhhB"
      }
    },
    {
      "cell_type": "code",
      "source": [
        "from sklearn.linear_model import SGDClassifier\n",
        "\n",
        "sc = SGDClassifier(loss='log_loss', max_iter=1000, random_state=42)\n",
        "sc.fit(train_scaled, train_target)\n",
        "\n",
        "print(sc.score(train_scaled, train_target))\n",
        "print(sc.score(test_scaled, test_target))"
      ],
      "metadata": {
        "colab": {
          "base_uri": "https://localhost:8080/"
        },
        "id": "bZHBdBJUdpoW",
        "outputId": "e7d80c52-8bdf-47c4-bab4-580fd84f87a6"
      },
      "execution_count": 20,
      "outputs": [
        {
          "output_type": "stream",
          "name": "stdout",
          "text": [
            "0.8035714285714286\n",
            "0.7894736842105263\n"
          ]
        }
      ]
    },
    {
      "cell_type": "code",
      "source": [
        "sc.partial_fit(train_scaled, train_target)\n",
        "\n",
        "print(sc.score(train_scaled, train_target))\n",
        "print(sc.score(test_scaled, test_target))"
      ],
      "metadata": {
        "colab": {
          "base_uri": "https://localhost:8080/"
        },
        "id": "npgznzMndrQl",
        "outputId": "7a207e90-17ff-485e-eafd-14a55e9c2044"
      },
      "execution_count": 21,
      "outputs": [
        {
          "output_type": "stream",
          "name": "stdout",
          "text": [
            "0.9464285714285714\n",
            "0.9473684210526315\n"
          ]
        }
      ]
    },
    {
      "cell_type": "code",
      "source": [
        "sc = SGDClassifier(loss='log_loss', random_state=42)\n",
        "\n",
        "train_score = []\n",
        "test_score = []\n",
        "\n",
        "classes = np.unique(train_target)"
      ],
      "metadata": {
        "id": "lypaTbdJduk7"
      },
      "execution_count": 22,
      "outputs": []
    },
    {
      "cell_type": "code",
      "source": [
        "for _ in range(0, 300):\n",
        "    sc.partial_fit(train_scaled, train_target, classes=classes)\n",
        "\n",
        "    train_score.append(sc.score(train_scaled, train_target))\n",
        "    test_score.append(sc.score(test_scaled, test_target))\n",
        "\n",
        "import matplotlib.pyplot as plt\n",
        "\n",
        "plt.plot(train_score)\n",
        "plt.plot(test_score)\n",
        "plt.xlabel('epoch')\n",
        "plt.ylabel('accuracy')\n",
        "plt.show()"
      ],
      "metadata": {
        "colab": {
          "base_uri": "https://localhost:8080/",
          "height": 449
        },
        "id": "TwYs8wUndvEC",
        "outputId": "960959c7-a0f1-4861-9f82-83496ef791cf"
      },
      "execution_count": 23,
      "outputs": [
        {
          "output_type": "display_data",
          "data": {
            "text/plain": [
              "<Figure size 640x480 with 1 Axes>"
            ],
            "image/png": "[encoded data removed]"
          },
          "metadata": {}
        }
      ]
    },
    {
      "cell_type": "code",
      "source": [
        "sc = SGDClassifier(loss='log_loss', max_iter=100, tol=None, random_state=42)\n",
        "sc.fit(train_scaled, train_target)\n",
        "\n",
        "print(sc.score(train_scaled, train_target))\n",
        "print(sc.score(test_scaled, test_target))"
      ],
      "metadata": {
        "colab": {
          "base_uri": "https://localhost:8080/"
        },
        "id": "Mo8D5okedxdd",
        "outputId": "96d2b407-1eff-4913-89e3-c7d413c048d5"
      },
      "execution_count": 24,
      "outputs": [
        {
          "output_type": "stream",
          "name": "stdout",
          "text": [
            "0.9642857142857143\n",
            "0.9473684210526315\n"
          ]
        }
      ]
    }
  ]
}