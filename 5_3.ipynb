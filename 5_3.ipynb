{
  "nbformat": 4,
  "nbformat_minor": 0,
  "metadata": {
    "colab": {
      "provenance": [],
      "authorship_tag": "ABX9TyOYFmjAu9KSCuU5iukmp8B1",
      "include_colab_link": true
    },
    "kernelspec": {
      "name": "python3",
      "display_name": "Python 3"
    },
    "language_info": {
      "name": "python"
    }
  },
  "cells": [
    {
      "cell_type": "markdown",
      "metadata": {
        "id": "view-in-github",
        "colab_type": "text"
      },
      "source": [
        "<a href=\"https://colab.research.google.com/github/kylo-dev/gachon-machinelearning/blob/main/5_3.ipynb\" target=\"_parent\"><img src=\"https://colab.research.google.com/assets/colab-badge.svg\" alt=\"Open In Colab\"/></a>"
      ]
    },
    {
      "cell_type": "markdown",
      "source": [
        "# 트리의 앙상블\n",
        "\n",
        "앙상블 (Ensemble):\n",
        "\n",
        "앙상블은 여러 개의 기본 모델을 조합하여 더 강력하고 일반화된 예측 모델을 만드는 기법\n",
        "\n",
        "앙상블은 \"다수결 투표\"와 같은 방식으로 여러 모델의 예측을 결합하여 더 정확한 예측을 수행합니다.\n",
        "\n",
        "앙상블은 다양한 모델의 다양성을 활용하여 과적합을 줄이고 예측 성능을 향상시킵니다."
      ],
      "metadata": {
        "id": "sWlyvPotLXC3"
      }
    },
    {
      "cell_type": "markdown",
      "source": [
        "## 랜덤포레스트\n",
        "\n",
        "* 랜덤 포레스트는 앙상블(Ensemble) 학습 기법의 하나로, 여러 개의 결정 트리 모델을 조합하여 더 강력하고 안정적인 예측 모델을 만드는 알고리즘입니다.\n",
        "\n",
        "* 랜덤 포레스트는 결정 트리의 과적합 문제를 완화하고 모델의 일반화 성능을 향상시킵니다.\n",
        "* 주요 알고리즘\n",
        "    * 무작위로 데이터를 샘플링하여 부트스트랩(Bootstrap) 데이터셋을 생성합니다.\n",
        "    * 각 결정 트리는 부트스트랩 데이터셋을 사용하여 훈련됩니다.\n",
        "    * 노드를 분할할 때, 무작위로 선택한 특성(feature) 하위 집합을 고려하여 분할합니다.\n",
        "    * 모든 결정 트리의 예측을 조합하여 최종 예측을 수행합니다.\n",
        "\n",
        "---\n",
        "\n",
        "### 부트스트랩 (Bootstrap):\n",
        "\n",
        "* 부트스트랩은 통계학과 머신러닝에서 사용되는 리샘플링 기법 중 하나로, 주어진 데이터셋으로부터 무작위로 복원추출을 통해 샘플을 생성하는 과정을 나타냅니다.\n",
        "\n",
        "* 부트스트랩 샘플링은 주어진 데이터셋에서 중복을 허용하며 랜덤하게 데이터를 선택합니다.\n",
        "\n",
        "* 부트스트랩을 사용하면 데이터셋으로부터 여러 개의 부분집합을 생성하여 통계적 추정이나 모델 평가를 수행할 수 있습니다."
      ],
      "metadata": {
        "id": "VWVFaTpuLaWl"
      }
    },
    {
      "cell_type": "code",
      "execution_count": null,
      "metadata": {
        "id": "M-Rx5_YNLPXF"
      },
      "outputs": [],
      "source": [
        "import numpy as np\n",
        "import pandas as pd\n",
        "from sklearn.model_selection import train_test_split\n",
        "\n",
        "wine = pd.read_csv('https://bit.ly/wine_csv_data')\n",
        "\n",
        "data = wine[['alcohol', 'sugar', 'pH']].to_numpy()\n",
        "target = wine['class'].to_numpy()\n",
        "\n",
        "train_input, test_input, train_target, test_target = train_test_split(data, target, test_size=0.2, random_state=42)"
      ]
    },
    {
      "cell_type": "code",
      "source": [
        "from sklearn.model_selection import cross_validate\n",
        "from sklearn.ensemble import RandomForestClassifier\n",
        "\n",
        "rf = RandomForestClassifier(n_jobs=-1, random_state=42)\n",
        "scores = cross_validate(rf, train_input, train_target, return_train_score=True, n_jobs=-1)\n",
        "print(np.mean(scores['train_score']), np.mean(scores['test_score']))"
      ],
      "metadata": {
        "colab": {
          "base_uri": "https://localhost:8080/"
        },
        "id": "7nAPKNizLri9",
        "outputId": "181c9a23-7e59-4101-fe5e-95f28ade815b"
      },
      "execution_count": null,
      "outputs": [
        {
          "output_type": "stream",
          "name": "stdout",
          "text": [
            "0.9973541965122431 0.8905151032797809\n"
          ]
        }
      ]
    },
    {
      "cell_type": "code",
      "source": [
        "rf.fit(train_input, train_target)\n",
        "print(rf.feature_importances_)"
      ],
      "metadata": {
        "colab": {
          "base_uri": "https://localhost:8080/"
        },
        "id": "ZT94Zea5Lrmi",
        "outputId": "a04f3789-6806-4288-c342-2bb734734d03"
      },
      "execution_count": null,
      "outputs": [
        {
          "output_type": "stream",
          "name": "stdout",
          "text": [
            "[0.23167441 0.50039841 0.26792718]\n"
          ]
        }
      ]
    },
    {
      "cell_type": "markdown",
      "source": [
        "### RandomForestClassifier의 두 가지 파라미터인 oob_score와 n_jobs\n",
        "\n",
        "1. oob_score (Out-of-Bag Score):\n",
        "\n",
        "    랜덤 포레스트는 부트스트랩(Bootstrap) 샘플링을 사용하여 각 결정 트리(Decision Tree)를 훈련합니다. 이로 인해 일부 데이터 포인트는 각 결정 트리의 훈련에 사용되지 않게 됩니다. 이러한 데이터 포인트를 \"Out-of-Bag\" 데이터라고 합니다.\n",
        "\n",
        "    oob_score=True로 설정하면 랜덤 포레스트는 각 결정 트리의 훈련에 사용되지 않은 Out-of-Bag 데이터를 사용하여 모델의 성능을 평가합니다. 이를 통해 교차 검증 없이 모델의 성능을 추정할 수 있습니다.\n",
        "\n",
        "2. n_jobs (Number of Jobs):\n",
        "\n",
        "    n_jobs는 랜덤 포레스트 모델을 훈련할 때 병렬 처리를 수행할 때 사용되는 파라미터입니다.\n",
        "\n",
        "    일반적으로, n_jobs=-1로 설정하면 가능한 모든 CPU 코어를 활용하여 병렬 처리를 수행하게 됩니다. 이렇게 설정하면 모델 훈련이 빨라질 수 있습니다."
      ],
      "metadata": {
        "id": "eNJ7bMV4NvsM"
      }
    },
    {
      "cell_type": "code",
      "source": [
        "rf = RandomForestClassifier(oob_score=True, n_jobs=-1, random_state=42)\n",
        "\n",
        "rf.fit(train_input, train_target)\n",
        "print(rf.oob_score_)"
      ],
      "metadata": {
        "colab": {
          "base_uri": "https://localhost:8080/"
        },
        "id": "DSKBZ_6yMNeL",
        "outputId": "c81e7c23-07b3-473f-d143-01ec859010c0"
      },
      "execution_count": null,
      "outputs": [
        {
          "output_type": "stream",
          "name": "stdout",
          "text": [
            "0.8934000384837406\n"
          ]
        }
      ]
    },
    {
      "cell_type": "markdown",
      "source": [
        "## 엑스트라 트리\n",
        "\n",
        "랜덤 분할(Random Splitting):\n",
        "\n",
        "엑스트라 트리는 랜덤 포레스트와 마찬가지로 결정 트리(Decision Tree)의 앙상블을 사용합니다.\n",
        "\n",
        "하지만 랜덤 포레스트와 달리, 엑스트라 트리는 노드를 분할할 때 무작위로 분할 기준(threshold)을 선택합니다.\n",
        "\n",
        "이러한 무작위 분할로 인해 결정 트리의 다양성이 증가하며 과적합을 줄일 수 있습니다."
      ],
      "metadata": {
        "id": "tQ1d54A-OFSF"
      }
    },
    {
      "cell_type": "code",
      "source": [
        "from sklearn.ensemble import ExtraTreesClassifier\n",
        "\n",
        "et = ExtraTreesClassifier(n_jobs=-1, random_state=42)\n",
        "scores = cross_validate(et, train_input, train_target, return_train_score=True, n_jobs=-1)\n",
        "\n",
        "print(np.mean(scores['train_score']), np.mean(scores['test_score']))"
      ],
      "metadata": {
        "colab": {
          "base_uri": "https://localhost:8080/"
        },
        "id": "jd-NG5GsLrpG",
        "outputId": "b0fa52c8-9686-4cfb-9e84-241d56097555"
      },
      "execution_count": null,
      "outputs": [
        {
          "output_type": "stream",
          "name": "stdout",
          "text": [
            "0.9974503966084433 0.8887848893166506\n"
          ]
        }
      ]
    },
    {
      "cell_type": "code",
      "source": [
        "et.fit(train_input, train_target)\n",
        "print(et.feature_importances_)"
      ],
      "metadata": {
        "colab": {
          "base_uri": "https://localhost:8080/"
        },
        "id": "M3whmfiVLrt3",
        "outputId": "064ae006-9b64-4506-d969-f77fff8d39b3"
      },
      "execution_count": null,
      "outputs": [
        {
          "output_type": "stream",
          "name": "stdout",
          "text": [
            "[0.20183568 0.52242907 0.27573525]\n"
          ]
        }
      ]
    },
    {
      "cell_type": "markdown",
      "source": [
        "## 그레이디언트 부스팅"
      ],
      "metadata": {
        "id": "DM5EvfU-PXKX"
      }
    },
    {
      "cell_type": "code",
      "source": [
        "from sklearn.ensemble import GradientBoostingClassifier\n",
        "\n",
        "gb = GradientBoostingClassifier(random_state=42)\n",
        "scores = cross_validate(gb, train_input, train_target, return_train_score=True, n_jobs=-1)\n",
        "\n",
        "print(np.mean(scores['train_score']), np.mean(scores['test_score']))"
      ],
      "metadata": {
        "colab": {
          "base_uri": "https://localhost:8080/"
        },
        "id": "MnuAyFkkPWDS",
        "outputId": "a7fc03a0-208b-4a25-893e-d2d77a82849a"
      },
      "execution_count": null,
      "outputs": [
        {
          "output_type": "stream",
          "name": "stdout",
          "text": [
            "0.8881086892152563 0.8720430147331015\n"
          ]
        }
      ]
    },
    {
      "cell_type": "code",
      "source": [
        "gb.fit(train_input, train_target)\n",
        "print(gb.feature_importances_)"
      ],
      "metadata": {
        "colab": {
          "base_uri": "https://localhost:8080/"
        },
        "id": "z5DoHHhEPWFm",
        "outputId": "4394a1f9-3b48-4adc-a4f9-eb2e6ccb285d"
      },
      "execution_count": null,
      "outputs": [
        {
          "output_type": "stream",
          "name": "stdout",
          "text": [
            "[0.11949946 0.74871836 0.13178218]\n"
          ]
        }
      ]
    },
    {
      "cell_type": "markdown",
      "source": [
        "## 히스토그램 기반 부스팅"
      ],
      "metadata": {
        "id": "1J-puFU8QFfI"
      }
    },
    {
      "cell_type": "code",
      "source": [
        "from sklearn.ensemble import HistGradientBoostingClassifier\n",
        "\n",
        "hgb = HistGradientBoostingClassifier(random_state=42)\n",
        "scores = cross_validate(hgb, train_input, train_target, return_train_score=True, n_jobs=-1)\n",
        "\n",
        "print(np.mean(scores['train_score']), np.mean(scores['test_score']))"
      ],
      "metadata": {
        "colab": {
          "base_uri": "https://localhost:8080/"
        },
        "id": "EPGUkwcHPWH_",
        "outputId": "e64b1803-7fb3-41cf-d3c1-a1d8de7fe4a3"
      },
      "execution_count": null,
      "outputs": [
        {
          "output_type": "stream",
          "name": "stdout",
          "text": [
            "0.9321723946453317 0.8801241948619236\n"
          ]
        }
      ]
    },
    {
      "cell_type": "code",
      "source": [
        "from sklearn.inspection import permutation_importance\n",
        "\n",
        "hgb.fit(train_input, train_target)\n",
        "result = permutation_importance(hgb, train_input, train_target, n_repeats=10,\n",
        "                                random_state=42, n_jobs=-1)\n",
        "print(result.importances_mean)"
      ],
      "metadata": {
        "colab": {
          "base_uri": "https://localhost:8080/"
        },
        "id": "RA3mTAPNQJKC",
        "outputId": "d0744dfe-5b8f-4d13-e04d-e5a4a2cbf749"
      },
      "execution_count": null,
      "outputs": [
        {
          "output_type": "stream",
          "name": "stdout",
          "text": [
            "[0.08876275 0.23438522 0.08027708]\n"
          ]
        }
      ]
    },
    {
      "cell_type": "code",
      "source": [
        "result = permutation_importance(hgb, test_input, test_target, n_repeats=10,\n",
        "                                random_state=42, n_jobs=-1)\n",
        "print(result.importances_mean)"
      ],
      "metadata": {
        "colab": {
          "base_uri": "https://localhost:8080/"
        },
        "id": "5YlUuESsPWKn",
        "outputId": "fba30463-f72a-412e-e249-653605e13b07"
      },
      "execution_count": null,
      "outputs": [
        {
          "output_type": "stream",
          "name": "stdout",
          "text": [
            "[0.05969231 0.20238462 0.049     ]\n"
          ]
        }
      ]
    },
    {
      "cell_type": "code",
      "source": [
        "hgb.score(test_input, test_target)"
      ],
      "metadata": {
        "colab": {
          "base_uri": "https://localhost:8080/"
        },
        "id": "D4sV7ry4PWN7",
        "outputId": "ae8046a2-dbcf-47ca-90b5-b0c0a10ada9a"
      },
      "execution_count": null,
      "outputs": [
        {
          "output_type": "execute_result",
          "data": {
            "text/plain": [
              "0.8723076923076923"
            ]
          },
          "metadata": {},
          "execution_count": 12
        }
      ]
    },
    {
      "cell_type": "markdown",
      "source": [
        "## XGBoost"
      ],
      "metadata": {
        "id": "-7AJv-0EQ-Ot"
      }
    },
    {
      "cell_type": "code",
      "source": [
        "from xgboost import XGBClassifier\n",
        "\n",
        "xgb = XGBClassifier(tree_method='hist', random_state=42)\n",
        "scores = cross_validate(xgb, train_input, train_target, return_train_score=True, n_jobs=-1)\n",
        "\n",
        "print(np.mean(scores['train_score']), np.mean(scores['test_score']))"
      ],
      "metadata": {
        "colab": {
          "base_uri": "https://localhost:8080/"
        },
        "id": "47LWSeU1QUo6",
        "outputId": "28e85a2d-0ee9-4ccf-a493-f1d841f2861c"
      },
      "execution_count": null,
      "outputs": [
        {
          "output_type": "stream",
          "name": "stdout",
          "text": [
            "0.9555033709953124 0.8799326275264677\n"
          ]
        }
      ]
    },
    {
      "cell_type": "markdown",
      "source": [
        "## LightGBM"
      ],
      "metadata": {
        "id": "G1fj9w8sQVHf"
      }
    },
    {
      "cell_type": "code",
      "source": [
        "from lightgbm import LGBMClassifier\n",
        "\n",
        "lgb = LGBMClassifier(random_state=42)\n",
        "scores = cross_validate(lgb, train_input, train_target, return_train_score=True, n_jobs=-1)\n",
        "\n",
        "print(np.mean(scores['train_score']), np.mean(scores['test_score']))"
      ],
      "metadata": {
        "colab": {
          "base_uri": "https://localhost:8080/"
        },
        "id": "lAzX6zqOQVKC",
        "outputId": "bd40eca4-e703-43bd-85aa-435440dd7a91"
      },
      "execution_count": null,
      "outputs": [
        {
          "output_type": "stream",
          "name": "stdout",
          "text": [
            "0.935828414851749 0.8801251203079884\n"
          ]
        }
      ]
    },
    {
      "cell_type": "code",
      "source": [],
      "metadata": {
        "id": "ZwTMvHGvQVMB"
      },
      "execution_count": null,
      "outputs": []
    }
  ]
}