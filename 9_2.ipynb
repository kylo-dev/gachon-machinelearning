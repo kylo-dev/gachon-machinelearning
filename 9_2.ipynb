{
  "cells": [
    {
      "cell_type": "markdown",
      "metadata": {
        "id": "view-in-github",
        "colab_type": "text"
      },
      "source": [
        "<a href=\"https://colab.research.google.com/github/kylo-dev/gachon-machinelearning/blob/main/9_2.ipynb\" target=\"_parent\"><img src=\"https://colab.research.google.com/assets/colab-badge.svg\" alt=\"Open In Colab\"/></a>"
      ]
    },
    {
      "cell_type": "markdown",
      "metadata": {
        "id": "MusV5YYT6kQF"
      },
      "source": [
        "# 순환 신경망으로 IMDB 리뷰 분류하기"
      ]
    },
    {
      "cell_type": "code",
      "execution_count": null,
      "metadata": {
        "id": "oBxL32NvSEVb"
      },
      "outputs": [],
      "source": [
        "import tensorflow as tf\n",
        "\n",
        "tf.keras.utils.set_random_seed(42)\n",
        "tf.config.experimental.enable_op_determinism()"
      ]
    },
    {
      "cell_type": "markdown",
      "metadata": {
        "id": "S1A-DDIQ6kQQ"
      },
      "source": [
        "## IMDB 리뷰 데이터셋"
      ]
    },
    {
      "cell_type": "code",
      "execution_count": 2,
      "metadata": {
        "colab": {
          "base_uri": "https://localhost:8080/"
        },
        "id": "sZoZm1ZO6kQR",
        "outputId": "4b4022a9-eff3-49d3-fceb-56c6753a02ab"
      },
      "outputs": [
        {
          "output_type": "stream",
          "name": "stdout",
          "text": [
            "Downloading data from https://storage.googleapis.com/tensorflow/tf-keras-datasets/imdb.npz\n",
            "17464789/17464789 [==============================] - 0s 0us/step\n"
          ]
        }
      ],
      "source": [
        "from tensorflow.keras.datasets import imdb\n",
        "\n",
        "(train_input, train_target), (test_input, test_target) = imdb.load_data(\n",
        "    num_words=300)"
      ]
    },
    {
      "cell_type": "code",
      "execution_count": 3,
      "metadata": {
        "colab": {
          "base_uri": "https://localhost:8080/"
        },
        "id": "HTFjz6k06kQR",
        "outputId": "a8adbbf1-e873-4346-f6f4-deec2dc7925c"
      },
      "outputs": [
        {
          "output_type": "stream",
          "name": "stdout",
          "text": [
            "(25000,) (25000,)\n"
          ]
        }
      ],
      "source": [
        "print(train_input.shape, test_input.shape)"
      ]
    },
    {
      "cell_type": "code",
      "execution_count": 4,
      "metadata": {
        "colab": {
          "base_uri": "https://localhost:8080/"
        },
        "id": "4jMLURzw6kQS",
        "outputId": "2e1723de-8bea-4f1e-b031-8f4463f6eb6e"
      },
      "outputs": [
        {
          "output_type": "stream",
          "name": "stdout",
          "text": [
            "218\n"
          ]
        }
      ],
      "source": [
        "print(len(train_input[0]))"
      ]
    },
    {
      "cell_type": "code",
      "execution_count": 5,
      "metadata": {
        "colab": {
          "base_uri": "https://localhost:8080/"
        },
        "id": "xdO834PL6kQT",
        "outputId": "9be49fe3-4d17-4e1d-a9a7-a569c858d88a"
      },
      "outputs": [
        {
          "output_type": "stream",
          "name": "stdout",
          "text": [
            "189\n"
          ]
        }
      ],
      "source": [
        "print(len(train_input[1]))"
      ]
    },
    {
      "cell_type": "code",
      "execution_count": 6,
      "metadata": {
        "colab": {
          "base_uri": "https://localhost:8080/"
        },
        "id": "QNuzGQ2c6kQT",
        "outputId": "e6fc3842-da11-4c94-d001-d3681a9ef387"
      },
      "outputs": [
        {
          "output_type": "stream",
          "name": "stdout",
          "text": [
            "[1, 14, 22, 16, 43, 2, 2, 2, 2, 65, 2, 2, 66, 2, 4, 173, 36, 256, 5, 25, 100, 43, 2, 112, 50, 2, 2, 9, 35, 2, 284, 5, 150, 4, 172, 112, 167, 2, 2, 2, 39, 4, 172, 2, 2, 17, 2, 38, 13, 2, 4, 192, 50, 16, 6, 147, 2, 19, 14, 22, 4, 2, 2, 2, 4, 22, 71, 87, 12, 16, 43, 2, 38, 76, 15, 13, 2, 4, 22, 17, 2, 17, 12, 16, 2, 18, 2, 5, 62, 2, 12, 8, 2, 8, 106, 5, 4, 2, 2, 16, 2, 66, 2, 33, 4, 130, 12, 16, 38, 2, 5, 25, 124, 51, 36, 135, 48, 25, 2, 33, 6, 22, 12, 215, 28, 77, 52, 5, 14, 2, 16, 82, 2, 8, 4, 107, 117, 2, 15, 256, 4, 2, 7, 2, 5, 2, 36, 71, 43, 2, 2, 26, 2, 2, 46, 7, 4, 2, 2, 13, 104, 88, 4, 2, 15, 297, 98, 32, 2, 56, 26, 141, 6, 194, 2, 18, 4, 226, 22, 21, 134, 2, 26, 2, 5, 144, 30, 2, 18, 51, 36, 28, 224, 92, 25, 104, 4, 226, 65, 16, 38, 2, 88, 12, 16, 283, 5, 16, 2, 113, 103, 32, 15, 16, 2, 19, 178, 32]\n"
          ]
        }
      ],
      "source": [
        "print(train_input[0])"
      ]
    },
    {
      "cell_type": "code",
      "execution_count": 7,
      "metadata": {
        "colab": {
          "base_uri": "https://localhost:8080/"
        },
        "id": "In8Qzltz6kQT",
        "outputId": "cc8356fe-56a3-4d74-d501-496661fb9ac9"
      },
      "outputs": [
        {
          "output_type": "stream",
          "name": "stdout",
          "text": [
            "[1 0 0 1 0 0 1 0 1 0 1 0 0 0 0 0 1 1 0 1]\n"
          ]
        }
      ],
      "source": [
        "print(train_target[:20])"
      ]
    },
    {
      "cell_type": "code",
      "execution_count": 8,
      "metadata": {
        "id": "0-zjNgBw6kQU"
      },
      "outputs": [],
      "source": [
        "from sklearn.model_selection import train_test_split\n",
        "\n",
        "train_input, val_input, train_target, val_target = train_test_split(\n",
        "    train_input, train_target, test_size=0.2, random_state=42)"
      ]
    },
    {
      "cell_type": "code",
      "execution_count": 9,
      "metadata": {
        "id": "sRVvgntx6kQU"
      },
      "outputs": [],
      "source": [
        "import numpy as np\n",
        "\n",
        "lengths = np.array([len(x) for x in train_input])"
      ]
    },
    {
      "cell_type": "code",
      "execution_count": 10,
      "metadata": {
        "colab": {
          "base_uri": "https://localhost:8080/"
        },
        "id": "p76m_61w6kQU",
        "outputId": "9a7c2490-e450-43e5-a0d5-92cb8f66dcbc"
      },
      "outputs": [
        {
          "output_type": "stream",
          "name": "stdout",
          "text": [
            "239.00925 178.0\n"
          ]
        }
      ],
      "source": [
        "print(np.mean(lengths), np.median(lengths))"
      ]
    },
    {
      "cell_type": "code",
      "execution_count": 11,
      "metadata": {
        "colab": {
          "base_uri": "https://localhost:8080/",
          "height": 449
        },
        "id": "TVDrsRYF6kQV",
        "outputId": "1aa7cad5-8c5a-43c2-bd80-5ec39bc74852"
      },
      "outputs": [
        {
          "output_type": "display_data",
          "data": {
            "text/plain": [
              "<Figure size 640x480 with 1 Axes>"
            ],
            "image/png": "[encoded data removed]"
          },
          "metadata": {}
        }
      ],
      "source": [
        "import matplotlib.pyplot as plt\n",
        "\n",
        "plt.hist(lengths)\n",
        "plt.xlabel('length')\n",
        "plt.ylabel('frequency')\n",
        "plt.show()"
      ]
    },
    {
      "cell_type": "code",
      "execution_count": 12,
      "metadata": {
        "id": "fbLSFToP6kQV"
      },
      "outputs": [],
      "source": [
        "from tensorflow.keras.preprocessing.sequence import pad_sequences\n",
        "\n",
        "train_seq = pad_sequences(train_input, maxlen=100)"
      ]
    },
    {
      "cell_type": "code",
      "execution_count": 13,
      "metadata": {
        "colab": {
          "base_uri": "https://localhost:8080/"
        },
        "id": "3c86x0Yj6kQV",
        "outputId": "d91f08fe-2314-42b7-cceb-fa8adbc7bfbc"
      },
      "outputs": [
        {
          "output_type": "stream",
          "name": "stdout",
          "text": [
            "(20000, 100)\n"
          ]
        }
      ],
      "source": [
        "print(train_seq.shape)"
      ]
    },
    {
      "cell_type": "code",
      "execution_count": 14,
      "metadata": {
        "colab": {
          "base_uri": "https://localhost:8080/"
        },
        "id": "JuP0QJaU6kQW",
        "outputId": "ddedb7cb-1cec-4b9d-d9ce-58e82a54f53c"
      },
      "outputs": [
        {
          "output_type": "stream",
          "name": "stdout",
          "text": [
            "[ 10   4  20   9   2   2   2   5  45   6   2   2  33 269   8   2 142   2\n",
            "   5   2  17  73  17 204   5   2  19  55   2   2  92  66 104  14  20  93\n",
            "  76   2 151  33   4  58  12 188   2 151  12 215  69 224 142  73 237   6\n",
            "   2   7   2   2 188   2 103  14  31  10  10   2   7   2   5   2  80  91\n",
            "   2  30   2  34  14  20 151  50  26 131  49   2  84  46  50  37  80  79\n",
            "   6   2  46   7  14  20  10  10   2 158]\n"
          ]
        }
      ],
      "source": [
        "print(train_seq[0])"
      ]
    },
    {
      "cell_type": "code",
      "execution_count": 15,
      "metadata": {
        "colab": {
          "base_uri": "https://localhost:8080/"
        },
        "id": "6t8kaDji6kQW",
        "outputId": "94cfea2c-eccf-4d87-9623-00e94b063b26"
      },
      "outputs": [
        {
          "output_type": "stream",
          "name": "stdout",
          "text": [
            "[6, 2, 46, 7, 14, 20, 10, 10, 2, 158]\n"
          ]
        }
      ],
      "source": [
        "print(train_input[0][-10:])"
      ]
    },
    {
      "cell_type": "code",
      "execution_count": 16,
      "metadata": {
        "colab": {
          "base_uri": "https://localhost:8080/"
        },
        "id": "Emmoztwa6kQX",
        "outputId": "29e648be-0b77-4e39-adda-cc82d2124422",
        "scrolled": true
      },
      "outputs": [
        {
          "output_type": "stream",
          "name": "stdout",
          "text": [
            "[  0   0   0   0   1   2 195  19  49   2   2 190   4   2   2   2 183  10\n",
            "  10  13  82  79   4   2  36  71 269   8   2  25  19  49   7   4   2   2\n",
            "   2   2   2  10  10  48  25  40   2  11   2   2  40   2   2   5   4   2\n",
            "   2  95  14 238  56 129   2  10  10  21   2  94   2   2   2   2  11 190\n",
            "  24   2   2   7  94 205   2  10  10  87   2  34  49   2   7   2   2   2\n",
            "   2   2 290   2  46  48  64  18   4   2]\n"
          ]
        }
      ],
      "source": [
        "print(train_seq[5])"
      ]
    },
    {
      "cell_type": "code",
      "execution_count": 17,
      "metadata": {
        "id": "ZeFmsjOd6kQX"
      },
      "outputs": [],
      "source": [
        "val_seq = pad_sequences(val_input, maxlen=100)"
      ]
    },
    {
      "cell_type": "markdown",
      "metadata": {
        "id": "9xab0nu_6kQX"
      },
      "source": [
        "## 순환 신경망 만들기"
      ]
    },
    {
      "cell_type": "code",
      "execution_count": 18,
      "metadata": {
        "id": "45BtHGKX6kQX"
      },
      "outputs": [],
      "source": [
        "from tensorflow import keras\n",
        "\n",
        "model = keras.Sequential()\n",
        "\n",
        "model.add(keras.layers.SimpleRNN(8, input_shape=(100, 300)))\n",
        "model.add(keras.layers.Dense(1, activation='sigmoid'))"
      ]
    },
    {
      "cell_type": "code",
      "execution_count": 19,
      "metadata": {
        "id": "oXIWyOuw6kQY"
      },
      "outputs": [],
      "source": [
        "train_oh = keras.utils.to_categorical(train_seq)"
      ]
    },
    {
      "cell_type": "code",
      "execution_count": 20,
      "metadata": {
        "colab": {
          "base_uri": "https://localhost:8080/"
        },
        "id": "VD94WiRT6kQY",
        "outputId": "6b1ddddb-6625-4f59-add5-25ef4f6aa032"
      },
      "outputs": [
        {
          "output_type": "stream",
          "name": "stdout",
          "text": [
            "(20000, 100, 300)\n"
          ]
        }
      ],
      "source": [
        "print(train_oh.shape)"
      ]
    },
    {
      "cell_type": "code",
      "execution_count": 21,
      "metadata": {
        "colab": {
          "base_uri": "https://localhost:8080/"
        },
        "id": "VIVSHwJg6kQY",
        "outputId": "a9a2d617-d5e2-47ba-8b98-f0a8d569b8b4"
      },
      "outputs": [
        {
          "output_type": "stream",
          "name": "stdout",
          "text": [
            "[0. 0. 0. 0. 0. 0. 0. 0. 0. 0. 1. 0.]\n"
          ]
        }
      ],
      "source": [
        "print(train_oh[0][0][:12])"
      ]
    },
    {
      "cell_type": "code",
      "execution_count": 22,
      "metadata": {
        "colab": {
          "base_uri": "https://localhost:8080/"
        },
        "id": "CP3ivii46kQZ",
        "outputId": "ccb097ab-2e75-4b61-fcf0-2385a71633ba"
      },
      "outputs": [
        {
          "output_type": "stream",
          "name": "stdout",
          "text": [
            "1.0\n"
          ]
        }
      ],
      "source": [
        "print(np.sum(train_oh[0][0]))"
      ]
    },
    {
      "cell_type": "code",
      "execution_count": 23,
      "metadata": {
        "id": "vgijH6m26kQZ"
      },
      "outputs": [],
      "source": [
        "val_oh = keras.utils.to_categorical(val_seq)"
      ]
    },
    {
      "cell_type": "code",
      "execution_count": 24,
      "metadata": {
        "colab": {
          "base_uri": "https://localhost:8080/"
        },
        "id": "0V0Svpuf6kQZ",
        "outputId": "e599b373-d70b-46e2-913e-dcf9aea889ea"
      },
      "outputs": [
        {
          "output_type": "stream",
          "name": "stdout",
          "text": [
            "Model: \"sequential\"\n",
            "_________________________________________________________________\n",
            " Layer (type)                Output Shape              Param #   \n",
            "=================================================================\n",
            " simple_rnn (SimpleRNN)      (None, 8)                 2472      \n",
            "                                                                 \n",
            " dense (Dense)               (None, 1)                 9         \n",
            "                                                                 \n",
            "=================================================================\n",
            "Total params: 2481 (9.69 KB)\n",
            "Trainable params: 2481 (9.69 KB)\n",
            "Non-trainable params: 0 (0.00 Byte)\n",
            "_________________________________________________________________\n"
          ]
        }
      ],
      "source": [
        "model.summary()"
      ]
    },
    {
      "cell_type": "markdown",
      "metadata": {
        "id": "S22Hc-7L6kQZ"
      },
      "source": [
        "## 순환 신경망 훈련하기"
      ]
    },
    {
      "cell_type": "code",
      "execution_count": 25,
      "metadata": {
        "colab": {
          "base_uri": "https://localhost:8080/"
        },
        "id": "YcwM299t6kQZ",
        "outputId": "80eb0500-4398-42b7-fa63-3f4264b5330b"
      },
      "outputs": [
        {
          "output_type": "stream",
          "name": "stdout",
          "text": [
            "Epoch 1/100\n",
            "313/313 [==============================] - 16s 46ms/step - loss: 0.6993 - accuracy: 0.5084 - val_loss: 0.6914 - val_accuracy: 0.5354\n",
            "Epoch 2/100\n",
            "  5/313 [..............................] - ETA: 8s - loss: 0.6906 - accuracy: 0.5531"
          ]
        },
        {
          "output_type": "stream",
          "name": "stderr",
          "text": [
            "/usr/local/lib/python3.10/dist-packages/keras/src/engine/training.py:3079: UserWarning: You are saving your model as an HDF5 file via `model.save()`. This file format is considered legacy. We recommend using instead the native Keras format, e.g. `model.save('my_model.keras')`.\n",
            "  saving_api.save_model(\n"
          ]
        },
        {
          "output_type": "stream",
          "name": "stdout",
          "text": [
            "313/313 [==============================] - 13s 40ms/step - loss: 0.6801 - accuracy: 0.5699 - val_loss: 0.6697 - val_accuracy: 0.5992\n",
            "Epoch 3/100\n",
            "313/313 [==============================] - 12s 39ms/step - loss: 0.6613 - accuracy: 0.6155 - val_loss: 0.6560 - val_accuracy: 0.6208\n",
            "Epoch 4/100\n",
            "313/313 [==============================] - 11s 34ms/step - loss: 0.6456 - accuracy: 0.6439 - val_loss: 0.6390 - val_accuracy: 0.6542\n",
            "Epoch 5/100\n",
            "313/313 [==============================] - 13s 40ms/step - loss: 0.6295 - accuracy: 0.6661 - val_loss: 0.6219 - val_accuracy: 0.6768\n",
            "Epoch 6/100\n",
            "313/313 [==============================] - 13s 40ms/step - loss: 0.6141 - accuracy: 0.6829 - val_loss: 0.6069 - val_accuracy: 0.6880\n",
            "Epoch 7/100\n",
            "313/313 [==============================] - 13s 40ms/step - loss: 0.5990 - accuracy: 0.7001 - val_loss: 0.5934 - val_accuracy: 0.6972\n",
            "Epoch 8/100\n",
            "313/313 [==============================] - 13s 42ms/step - loss: 0.5857 - accuracy: 0.7109 - val_loss: 0.5817 - val_accuracy: 0.7066\n",
            "Epoch 9/100\n",
            "313/313 [==============================] - 12s 39ms/step - loss: 0.5746 - accuracy: 0.7192 - val_loss: 0.5720 - val_accuracy: 0.7284\n",
            "Epoch 10/100\n",
            "313/313 [==============================] - 11s 35ms/step - loss: 0.5650 - accuracy: 0.7272 - val_loss: 0.5636 - val_accuracy: 0.7268\n",
            "Epoch 11/100\n",
            "313/313 [==============================] - 13s 40ms/step - loss: 0.5560 - accuracy: 0.7326 - val_loss: 0.5556 - val_accuracy: 0.7292\n",
            "Epoch 12/100\n",
            "313/313 [==============================] - 13s 41ms/step - loss: 0.5479 - accuracy: 0.7395 - val_loss: 0.5540 - val_accuracy: 0.7270\n",
            "Epoch 13/100\n",
            "313/313 [==============================] - 13s 40ms/step - loss: 0.5410 - accuracy: 0.7430 - val_loss: 0.5433 - val_accuracy: 0.7362\n",
            "Epoch 14/100\n",
            "313/313 [==============================] - 12s 39ms/step - loss: 0.5347 - accuracy: 0.7467 - val_loss: 0.5372 - val_accuracy: 0.7430\n",
            "Epoch 15/100\n",
            "313/313 [==============================] - 11s 35ms/step - loss: 0.5295 - accuracy: 0.7495 - val_loss: 0.5324 - val_accuracy: 0.7462\n",
            "Epoch 16/100\n",
            "313/313 [==============================] - 12s 39ms/step - loss: 0.5246 - accuracy: 0.7524 - val_loss: 0.5290 - val_accuracy: 0.7438\n",
            "Epoch 17/100\n",
            "313/313 [==============================] - 13s 41ms/step - loss: 0.5201 - accuracy: 0.7541 - val_loss: 0.5268 - val_accuracy: 0.7408\n",
            "Epoch 18/100\n",
            "313/313 [==============================] - 13s 40ms/step - loss: 0.5165 - accuracy: 0.7559 - val_loss: 0.5223 - val_accuracy: 0.7460\n",
            "Epoch 19/100\n",
            "313/313 [==============================] - 13s 41ms/step - loss: 0.5132 - accuracy: 0.7581 - val_loss: 0.5195 - val_accuracy: 0.7466\n",
            "Epoch 20/100\n",
            "313/313 [==============================] - 11s 35ms/step - loss: 0.5104 - accuracy: 0.7607 - val_loss: 0.5170 - val_accuracy: 0.7484\n",
            "Epoch 21/100\n",
            "313/313 [==============================] - 12s 37ms/step - loss: 0.5076 - accuracy: 0.7607 - val_loss: 0.5152 - val_accuracy: 0.7498\n",
            "Epoch 22/100\n",
            "313/313 [==============================] - 13s 40ms/step - loss: 0.5054 - accuracy: 0.7617 - val_loss: 0.5138 - val_accuracy: 0.7490\n",
            "Epoch 23/100\n",
            "313/313 [==============================] - 12s 40ms/step - loss: 0.5029 - accuracy: 0.7635 - val_loss: 0.5129 - val_accuracy: 0.7512\n",
            "Epoch 24/100\n",
            "313/313 [==============================] - 12s 39ms/step - loss: 0.5013 - accuracy: 0.7645 - val_loss: 0.5104 - val_accuracy: 0.7514\n",
            "Epoch 25/100\n",
            "313/313 [==============================] - 12s 38ms/step - loss: 0.4995 - accuracy: 0.7649 - val_loss: 0.5097 - val_accuracy: 0.7542\n",
            "Epoch 26/100\n",
            "313/313 [==============================] - 11s 35ms/step - loss: 0.4978 - accuracy: 0.7660 - val_loss: 0.5111 - val_accuracy: 0.7516\n",
            "Epoch 27/100\n",
            "313/313 [==============================] - 13s 40ms/step - loss: 0.4962 - accuracy: 0.7669 - val_loss: 0.5091 - val_accuracy: 0.7488\n",
            "Epoch 28/100\n",
            "313/313 [==============================] - 12s 40ms/step - loss: 0.4951 - accuracy: 0.7681 - val_loss: 0.5068 - val_accuracy: 0.7536\n",
            "Epoch 29/100\n",
            "313/313 [==============================] - 12s 40ms/step - loss: 0.4934 - accuracy: 0.7667 - val_loss: 0.5060 - val_accuracy: 0.7534\n",
            "Epoch 30/100\n",
            "313/313 [==============================] - 11s 35ms/step - loss: 0.4926 - accuracy: 0.7678 - val_loss: 0.5064 - val_accuracy: 0.7540\n",
            "Epoch 31/100\n",
            "313/313 [==============================] - 12s 37ms/step - loss: 0.4913 - accuracy: 0.7691 - val_loss: 0.5077 - val_accuracy: 0.7486\n",
            "Epoch 32/100\n",
            "313/313 [==============================] - 12s 40ms/step - loss: 0.4904 - accuracy: 0.7693 - val_loss: 0.5046 - val_accuracy: 0.7544\n",
            "Epoch 33/100\n",
            "313/313 [==============================] - 13s 40ms/step - loss: 0.4896 - accuracy: 0.7699 - val_loss: 0.5054 - val_accuracy: 0.7528\n",
            "Epoch 34/100\n",
            "313/313 [==============================] - 12s 40ms/step - loss: 0.4888 - accuracy: 0.7706 - val_loss: 0.5048 - val_accuracy: 0.7544\n",
            "Epoch 35/100\n",
            "313/313 [==============================] - 11s 35ms/step - loss: 0.4880 - accuracy: 0.7695 - val_loss: 0.5060 - val_accuracy: 0.7554\n"
          ]
        }
      ],
      "source": [
        "rmsprop = keras.optimizers.RMSprop(learning_rate=1e-4)\n",
        "model.compile(optimizer=rmsprop, loss='binary_crossentropy',\n",
        "              metrics=['accuracy'])\n",
        "\n",
        "checkpoint_cb = keras.callbacks.ModelCheckpoint('best-simplernn-model.h5',\n",
        "                                                save_best_only=True)\n",
        "early_stopping_cb = keras.callbacks.EarlyStopping(patience=3,\n",
        "                                                  restore_best_weights=True)\n",
        "\n",
        "history = model.fit(train_oh, train_target, epochs=100, batch_size=64,\n",
        "                    validation_data=(val_oh, val_target),\n",
        "                    callbacks=[checkpoint_cb, early_stopping_cb])"
      ]
    },
    {
      "cell_type": "code",
      "execution_count": 26,
      "metadata": {
        "colab": {
          "base_uri": "https://localhost:8080/",
          "height": 449
        },
        "id": "YS_5tIG26kQa",
        "outputId": "1abaf69d-a6a6-46a1-dafe-8dabc1020b93"
      },
      "outputs": [
        {
          "output_type": "display_data",
          "data": {
            "text/plain": [
              "<Figure size 640x480 with 1 Axes>"
            ],
            "image/png": "[encoded data removed]"
          },
          "metadata": {}
        }
      ],
      "source": [
        "plt.plot(history.history['loss'])\n",
        "plt.plot(history.history['val_loss'])\n",
        "plt.xlabel('epoch')\n",
        "plt.ylabel('loss')\n",
        "plt.legend(['train', 'val'])\n",
        "plt.show()"
      ]
    },
    {
      "cell_type": "markdown",
      "metadata": {
        "id": "K_U_lVie6kQa"
      },
      "source": [
        "## 단어 임베딩을 사용하기"
      ]
    },
    {
      "cell_type": "code",
      "execution_count": 27,
      "metadata": {
        "colab": {
          "base_uri": "https://localhost:8080/"
        },
        "id": "Ofl-Ifev6kQa",
        "outputId": "9b5912f7-b3b4-4e52-9903-fe6caa1c2680"
      },
      "outputs": [
        {
          "output_type": "stream",
          "name": "stdout",
          "text": [
            "Model: \"sequential_1\"\n",
            "_________________________________________________________________\n",
            " Layer (type)                Output Shape              Param #   \n",
            "=================================================================\n",
            " embedding (Embedding)       (None, 100, 16)           4800      \n",
            "                                                                 \n",
            " simple_rnn_1 (SimpleRNN)    (None, 8)                 200       \n",
            "                                                                 \n",
            " dense_1 (Dense)             (None, 1)                 9         \n",
            "                                                                 \n",
            "=================================================================\n",
            "Total params: 5009 (19.57 KB)\n",
            "Trainable params: 5009 (19.57 KB)\n",
            "Non-trainable params: 0 (0.00 Byte)\n",
            "_________________________________________________________________\n"
          ]
        }
      ],
      "source": [
        "model2 = keras.Sequential()\n",
        "\n",
        "model2.add(keras.layers.Embedding(300, 16, input_length=100))\n",
        "model2.add(keras.layers.SimpleRNN(8))\n",
        "model2.add(keras.layers.Dense(1, activation='sigmoid'))\n",
        "\n",
        "model2.summary()"
      ]
    },
    {
      "cell_type": "code",
      "execution_count": 28,
      "metadata": {
        "colab": {
          "base_uri": "https://localhost:8080/"
        },
        "id": "78TUrJAs6kQa",
        "outputId": "fd6338c0-073f-48ca-ef9a-11894955bebf"
      },
      "outputs": [
        {
          "output_type": "stream",
          "name": "stdout",
          "text": [
            "Epoch 1/100\n",
            "313/313 [==============================] - 10s 28ms/step - loss: 0.6801 - accuracy: 0.5603 - val_loss: 0.6610 - val_accuracy: 0.6092\n",
            "Epoch 2/100\n",
            "313/313 [==============================] - 9s 28ms/step - loss: 0.6404 - accuracy: 0.6561 - val_loss: 0.6298 - val_accuracy: 0.6690\n",
            "Epoch 3/100\n",
            "313/313 [==============================] - 10s 31ms/step - loss: 0.6173 - accuracy: 0.6912 - val_loss: 0.6147 - val_accuracy: 0.6898\n",
            "Epoch 4/100\n",
            "313/313 [==============================] - 8s 24ms/step - loss: 0.5999 - accuracy: 0.7135 - val_loss: 0.5959 - val_accuracy: 0.7152\n",
            "Epoch 5/100\n",
            "313/313 [==============================] - 10s 32ms/step - loss: 0.5866 - accuracy: 0.7218 - val_loss: 0.5851 - val_accuracy: 0.7220\n",
            "Epoch 6/100\n",
            "313/313 [==============================] - 8s 26ms/step - loss: 0.5749 - accuracy: 0.7304 - val_loss: 0.5812 - val_accuracy: 0.7158\n",
            "Epoch 7/100\n",
            "313/313 [==============================] - 9s 28ms/step - loss: 0.5652 - accuracy: 0.7383 - val_loss: 0.5658 - val_accuracy: 0.7358\n",
            "Epoch 8/100\n",
            "313/313 [==============================] - 10s 33ms/step - loss: 0.5553 - accuracy: 0.7431 - val_loss: 0.5571 - val_accuracy: 0.7366\n",
            "Epoch 9/100\n",
            "313/313 [==============================] - 8s 24ms/step - loss: 0.5476 - accuracy: 0.7488 - val_loss: 0.5484 - val_accuracy: 0.7440\n",
            "Epoch 10/100\n",
            "313/313 [==============================] - 10s 32ms/step - loss: 0.5389 - accuracy: 0.7529 - val_loss: 0.5430 - val_accuracy: 0.7500\n",
            "Epoch 11/100\n",
            "313/313 [==============================] - 8s 27ms/step - loss: 0.5316 - accuracy: 0.7574 - val_loss: 0.5364 - val_accuracy: 0.7512\n",
            "Epoch 12/100\n",
            "313/313 [==============================] - 9s 28ms/step - loss: 0.5250 - accuracy: 0.7602 - val_loss: 0.5356 - val_accuracy: 0.7488\n",
            "Epoch 13/100\n",
            "313/313 [==============================] - 10s 31ms/step - loss: 0.5193 - accuracy: 0.7620 - val_loss: 0.5271 - val_accuracy: 0.7556\n",
            "Epoch 14/100\n",
            "313/313 [==============================] - 8s 24ms/step - loss: 0.5134 - accuracy: 0.7638 - val_loss: 0.5234 - val_accuracy: 0.7542\n",
            "Epoch 15/100\n",
            "313/313 [==============================] - 10s 31ms/step - loss: 0.5081 - accuracy: 0.7689 - val_loss: 0.5217 - val_accuracy: 0.7498\n",
            "Epoch 16/100\n",
            "313/313 [==============================] - 8s 24ms/step - loss: 0.5038 - accuracy: 0.7715 - val_loss: 0.5191 - val_accuracy: 0.7546\n",
            "Epoch 17/100\n",
            "313/313 [==============================] - 10s 32ms/step - loss: 0.4997 - accuracy: 0.7717 - val_loss: 0.5153 - val_accuracy: 0.7550\n",
            "Epoch 18/100\n",
            "313/313 [==============================] - 10s 31ms/step - loss: 0.4961 - accuracy: 0.7730 - val_loss: 0.5139 - val_accuracy: 0.7554\n",
            "Epoch 19/100\n",
            "313/313 [==============================] - 8s 25ms/step - loss: 0.4931 - accuracy: 0.7748 - val_loss: 0.5125 - val_accuracy: 0.7562\n",
            "Epoch 20/100\n",
            "313/313 [==============================] - 10s 32ms/step - loss: 0.4896 - accuracy: 0.7777 - val_loss: 0.5098 - val_accuracy: 0.7544\n",
            "Epoch 21/100\n",
            "313/313 [==============================] - 7s 24ms/step - loss: 0.4871 - accuracy: 0.7778 - val_loss: 0.5097 - val_accuracy: 0.7556\n",
            "Epoch 22/100\n",
            "313/313 [==============================] - 10s 32ms/step - loss: 0.4845 - accuracy: 0.7787 - val_loss: 0.5080 - val_accuracy: 0.7536\n",
            "Epoch 23/100\n",
            "313/313 [==============================] - 9s 29ms/step - loss: 0.4821 - accuracy: 0.7796 - val_loss: 0.5103 - val_accuracy: 0.7478\n",
            "Epoch 24/100\n",
            "313/313 [==============================] - 8s 27ms/step - loss: 0.4805 - accuracy: 0.7789 - val_loss: 0.5129 - val_accuracy: 0.7432\n",
            "Epoch 25/100\n",
            "313/313 [==============================] - 10s 32ms/step - loss: 0.4787 - accuracy: 0.7810 - val_loss: 0.5074 - val_accuracy: 0.7548\n",
            "Epoch 26/100\n",
            "313/313 [==============================] - 8s 25ms/step - loss: 0.4774 - accuracy: 0.7807 - val_loss: 0.5084 - val_accuracy: 0.7522\n",
            "Epoch 27/100\n",
            "313/313 [==============================] - 10s 32ms/step - loss: 0.4753 - accuracy: 0.7825 - val_loss: 0.5071 - val_accuracy: 0.7478\n",
            "Epoch 28/100\n",
            "313/313 [==============================] - 9s 29ms/step - loss: 0.4733 - accuracy: 0.7825 - val_loss: 0.5108 - val_accuracy: 0.7522\n",
            "Epoch 29/100\n",
            "313/313 [==============================] - 8s 27ms/step - loss: 0.4725 - accuracy: 0.7836 - val_loss: 0.5085 - val_accuracy: 0.7512\n",
            "Epoch 30/100\n",
            "313/313 [==============================] - 10s 32ms/step - loss: 0.4715 - accuracy: 0.7836 - val_loss: 0.5078 - val_accuracy: 0.7506\n"
          ]
        }
      ],
      "source": [
        "rmsprop = keras.optimizers.RMSprop(learning_rate=1e-4)\n",
        "model2.compile(optimizer=rmsprop, loss='binary_crossentropy',\n",
        "               metrics=['accuracy'])\n",
        "\n",
        "checkpoint_cb = keras.callbacks.ModelCheckpoint('best-embedding-model.h5',\n",
        "                                                save_best_only=True)\n",
        "early_stopping_cb = keras.callbacks.EarlyStopping(patience=3,\n",
        "                                                  restore_best_weights=True)\n",
        "\n",
        "history = model2.fit(train_seq, train_target, epochs=100, batch_size=64,\n",
        "                     validation_data=(val_seq, val_target),\n",
        "                     callbacks=[checkpoint_cb, early_stopping_cb])"
      ]
    },
    {
      "cell_type": "code",
      "execution_count": 29,
      "metadata": {
        "colab": {
          "base_uri": "https://localhost:8080/",
          "height": 449
        },
        "id": "brUvKwLt6kQb",
        "outputId": "236cb96c-f279-439a-d3d0-10131a0911fd",
        "tags": []
      },
      "outputs": [
        {
          "output_type": "display_data",
          "data": {
            "text/plain": [
              "<Figure size 640x480 with 1 Axes>"
            ],
            "image/png": "[encoded data removed]"
          },
          "metadata": {}
        }
      ],
      "source": [
        "plt.plot(history.history['loss'])\n",
        "plt.plot(history.history['val_loss'])\n",
        "plt.xlabel('epoch')\n",
        "plt.ylabel('loss')\n",
        "plt.legend(['train', 'val'])\n",
        "plt.show()"
      ]
    }
  ],
  "metadata": {
    "colab": {
      "provenance": [],
      "include_colab_link": true
    },
    "kernelspec": {
      "display_name": "Python 3",
      "name": "python3"
    },
    "language_info": {
      "name": "python"
    }
  },
  "nbformat": 4,
  "nbformat_minor": 0
}